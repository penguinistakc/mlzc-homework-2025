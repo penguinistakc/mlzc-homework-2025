{
 "cells": [
  {
   "cell_type": "markdown",
   "id": "9282b593",
   "metadata": {},
   "source": [
    "# Module 2 Homework"
   ]
  },
  {
   "cell_type": "code",
   "execution_count": 67,
   "id": "bd634366",
   "metadata": {},
   "outputs": [],
   "source": [
    "import pandas as pd\n",
    "import numpy as np\n",
    "import matplotlib.pyplot as plt\n",
    "import seaborn as sns\n",
    "\n",
    "%matplotlib inline"
   ]
  },
  {
   "cell_type": "markdown",
   "id": "e9e3bc59",
   "metadata": {},
   "source": [
    "## Read Dataset"
   ]
  },
  {
   "cell_type": "code",
   "execution_count": 68,
   "id": "670a22a2",
   "metadata": {},
   "outputs": [],
   "source": [
    "# Read the raw data\n",
    "data_df = pd.read_csv(\"https://raw.githubusercontent.com/alexeygrigorev/datasets/master/car_fuel_efficiency.csv\", engine=\"pyarrow\")"
   ]
  },
  {
   "cell_type": "code",
   "execution_count": 69,
   "id": "af126b94",
   "metadata": {},
   "outputs": [
    {
     "data": {
      "application/vnd.microsoft.datawrangler.viewer.v0+json": {
       "columns": [
        {
         "name": "index",
         "rawType": "int64",
         "type": "integer"
        },
        {
         "name": "engine_displacement",
         "rawType": "int64",
         "type": "integer"
        },
        {
         "name": "num_cylinders",
         "rawType": "float64",
         "type": "float"
        },
        {
         "name": "horsepower",
         "rawType": "float64",
         "type": "float"
        },
        {
         "name": "vehicle_weight",
         "rawType": "float64",
         "type": "float"
        },
        {
         "name": "acceleration",
         "rawType": "float64",
         "type": "float"
        },
        {
         "name": "model_year",
         "rawType": "int64",
         "type": "integer"
        },
        {
         "name": "origin",
         "rawType": "object",
         "type": "string"
        },
        {
         "name": "fuel_type",
         "rawType": "object",
         "type": "string"
        },
        {
         "name": "drivetrain",
         "rawType": "object",
         "type": "string"
        },
        {
         "name": "num_doors",
         "rawType": "float64",
         "type": "float"
        },
        {
         "name": "fuel_efficiency_mpg",
         "rawType": "float64",
         "type": "float"
        }
       ],
       "ref": "fb17175d-d69f-4f5b-abc5-fc43168a9c20",
       "rows": [
        [
         "0",
         "170",
         "3.0",
         "159.0",
         "3413.433758606219",
         "17.7",
         "2003",
         "Europe",
         "Gasoline",
         "All-wheel drive",
         "0.0",
         "13.231728906241411"
        ],
        [
         "1",
         "130",
         "5.0",
         "97.0",
         "3149.6649342200353",
         "17.8",
         "2007",
         "USA",
         "Gasoline",
         "Front-wheel drive",
         "0.0",
         "13.688217435463793"
        ],
        [
         "2",
         "170",
         null,
         "78.0",
         "3079.03899736884",
         "15.1",
         "2018",
         "Europe",
         "Gasoline",
         "Front-wheel drive",
         "0.0",
         "14.246340998160866"
        ],
        [
         "3",
         "220",
         "4.0",
         null,
         "2542.392401828378",
         "20.2",
         "2009",
         "USA",
         "Diesel",
         "All-wheel drive",
         "2.0",
         "16.91273559598635"
        ],
        [
         "4",
         "210",
         "1.0",
         "140.0",
         "3460.870989989018",
         "14.4",
         "2009",
         "Europe",
         "Gasoline",
         "All-wheel drive",
         "2.0",
         "12.488369121964562"
        ]
       ],
       "shape": {
        "columns": 11,
        "rows": 5
       }
      },
      "text/html": [
       "<div>\n",
       "<style scoped>\n",
       "    .dataframe tbody tr th:only-of-type {\n",
       "        vertical-align: middle;\n",
       "    }\n",
       "\n",
       "    .dataframe tbody tr th {\n",
       "        vertical-align: top;\n",
       "    }\n",
       "\n",
       "    .dataframe thead th {\n",
       "        text-align: right;\n",
       "    }\n",
       "</style>\n",
       "<table border=\"1\" class=\"dataframe\">\n",
       "  <thead>\n",
       "    <tr style=\"text-align: right;\">\n",
       "      <th></th>\n",
       "      <th>engine_displacement</th>\n",
       "      <th>num_cylinders</th>\n",
       "      <th>horsepower</th>\n",
       "      <th>vehicle_weight</th>\n",
       "      <th>acceleration</th>\n",
       "      <th>model_year</th>\n",
       "      <th>origin</th>\n",
       "      <th>fuel_type</th>\n",
       "      <th>drivetrain</th>\n",
       "      <th>num_doors</th>\n",
       "      <th>fuel_efficiency_mpg</th>\n",
       "    </tr>\n",
       "  </thead>\n",
       "  <tbody>\n",
       "    <tr>\n",
       "      <th>0</th>\n",
       "      <td>170</td>\n",
       "      <td>3.0</td>\n",
       "      <td>159.0</td>\n",
       "      <td>3413.433759</td>\n",
       "      <td>17.7</td>\n",
       "      <td>2003</td>\n",
       "      <td>Europe</td>\n",
       "      <td>Gasoline</td>\n",
       "      <td>All-wheel drive</td>\n",
       "      <td>0.0</td>\n",
       "      <td>13.231729</td>\n",
       "    </tr>\n",
       "    <tr>\n",
       "      <th>1</th>\n",
       "      <td>130</td>\n",
       "      <td>5.0</td>\n",
       "      <td>97.0</td>\n",
       "      <td>3149.664934</td>\n",
       "      <td>17.8</td>\n",
       "      <td>2007</td>\n",
       "      <td>USA</td>\n",
       "      <td>Gasoline</td>\n",
       "      <td>Front-wheel drive</td>\n",
       "      <td>0.0</td>\n",
       "      <td>13.688217</td>\n",
       "    </tr>\n",
       "    <tr>\n",
       "      <th>2</th>\n",
       "      <td>170</td>\n",
       "      <td>NaN</td>\n",
       "      <td>78.0</td>\n",
       "      <td>3079.038997</td>\n",
       "      <td>15.1</td>\n",
       "      <td>2018</td>\n",
       "      <td>Europe</td>\n",
       "      <td>Gasoline</td>\n",
       "      <td>Front-wheel drive</td>\n",
       "      <td>0.0</td>\n",
       "      <td>14.246341</td>\n",
       "    </tr>\n",
       "    <tr>\n",
       "      <th>3</th>\n",
       "      <td>220</td>\n",
       "      <td>4.0</td>\n",
       "      <td>NaN</td>\n",
       "      <td>2542.392402</td>\n",
       "      <td>20.2</td>\n",
       "      <td>2009</td>\n",
       "      <td>USA</td>\n",
       "      <td>Diesel</td>\n",
       "      <td>All-wheel drive</td>\n",
       "      <td>2.0</td>\n",
       "      <td>16.912736</td>\n",
       "    </tr>\n",
       "    <tr>\n",
       "      <th>4</th>\n",
       "      <td>210</td>\n",
       "      <td>1.0</td>\n",
       "      <td>140.0</td>\n",
       "      <td>3460.870990</td>\n",
       "      <td>14.4</td>\n",
       "      <td>2009</td>\n",
       "      <td>Europe</td>\n",
       "      <td>Gasoline</td>\n",
       "      <td>All-wheel drive</td>\n",
       "      <td>2.0</td>\n",
       "      <td>12.488369</td>\n",
       "    </tr>\n",
       "  </tbody>\n",
       "</table>\n",
       "</div>"
      ],
      "text/plain": [
       "   engine_displacement  num_cylinders  horsepower  vehicle_weight  \\\n",
       "0                  170            3.0       159.0     3413.433759   \n",
       "1                  130            5.0        97.0     3149.664934   \n",
       "2                  170            NaN        78.0     3079.038997   \n",
       "3                  220            4.0         NaN     2542.392402   \n",
       "4                  210            1.0       140.0     3460.870990   \n",
       "\n",
       "   acceleration  model_year  origin fuel_type         drivetrain  num_doors  \\\n",
       "0          17.7        2003  Europe  Gasoline    All-wheel drive        0.0   \n",
       "1          17.8        2007     USA  Gasoline  Front-wheel drive        0.0   \n",
       "2          15.1        2018  Europe  Gasoline  Front-wheel drive        0.0   \n",
       "3          20.2        2009     USA    Diesel    All-wheel drive        2.0   \n",
       "4          14.4        2009  Europe  Gasoline    All-wheel drive        2.0   \n",
       "\n",
       "   fuel_efficiency_mpg  \n",
       "0            13.231729  \n",
       "1            13.688217  \n",
       "2            14.246341  \n",
       "3            16.912736  \n",
       "4            12.488369  "
      ]
     },
     "execution_count": 69,
     "metadata": {},
     "output_type": "execute_result"
    }
   ],
   "source": [
    "# Verify data load\n",
    "data_df.head()"
   ]
  },
  {
   "cell_type": "code",
   "execution_count": 70,
   "id": "9dfd6deb",
   "metadata": {},
   "outputs": [
    {
     "data": {
      "text/plain": [
       "9704"
      ]
     },
     "execution_count": 70,
     "metadata": {},
     "output_type": "execute_result"
    }
   ],
   "source": [
    "len(data_df)"
   ]
  },
  {
   "cell_type": "markdown",
   "id": "2edec4ba",
   "metadata": {},
   "source": [
    "## Preparing the Dataset"
   ]
  },
  {
   "cell_type": "code",
   "execution_count": 71,
   "id": "b4f35653",
   "metadata": {},
   "outputs": [
    {
     "data": {
      "application/vnd.microsoft.datawrangler.viewer.v0+json": {
       "columns": [
        {
         "name": "index",
         "rawType": "object",
         "type": "string"
        },
        {
         "name": "0",
         "rawType": "object",
         "type": "unknown"
        }
       ],
       "ref": "e7bd0e35-33c0-4cec-a546-4e0fd2621882",
       "rows": [
        [
         "engine_displacement",
         "int64"
        ],
        [
         "num_cylinders",
         "float64"
        ],
        [
         "horsepower",
         "float64"
        ],
        [
         "vehicle_weight",
         "float64"
        ],
        [
         "acceleration",
         "float64"
        ],
        [
         "model_year",
         "int64"
        ],
        [
         "origin",
         "object"
        ],
        [
         "fuel_type",
         "object"
        ],
        [
         "drivetrain",
         "object"
        ],
        [
         "num_doors",
         "float64"
        ],
        [
         "fuel_efficiency_mpg",
         "float64"
        ]
       ],
       "shape": {
        "columns": 1,
        "rows": 11
       }
      },
      "text/plain": [
       "engine_displacement      int64\n",
       "num_cylinders          float64\n",
       "horsepower             float64\n",
       "vehicle_weight         float64\n",
       "acceleration           float64\n",
       "model_year               int64\n",
       "origin                  object\n",
       "fuel_type               object\n",
       "drivetrain              object\n",
       "num_doors              float64\n",
       "fuel_efficiency_mpg    float64\n",
       "dtype: object"
      ]
     },
     "execution_count": 71,
     "metadata": {},
     "output_type": "execute_result"
    }
   ],
   "source": [
    "# List columns and data types\n",
    "data_df.dtypes"
   ]
  },
  {
   "cell_type": "markdown",
   "id": "13c2b6e5",
   "metadata": {},
   "source": [
    "Use only the following columns:\n",
    "- `'engine_displacement'`\n",
    "- `'horsepower'`\n",
    "- `'vehicle_weight'`\n",
    "- `'model_year'`\n",
    "- `'fuel_efficiency_mpg'`"
   ]
  },
  {
   "cell_type": "code",
   "execution_count": 72,
   "id": "565905d7",
   "metadata": {},
   "outputs": [],
   "source": [
    "cols = ['engine_displacement', 'horsepower', 'vehicle_weight', 'model_year', 'fuel_efficiency_mpg']\n",
    "analysis_df = data_df[cols].copy()\n",
    "\n"
   ]
  },
  {
   "cell_type": "markdown",
   "id": "c21e6a70",
   "metadata": {},
   "source": [
    "## EDA\n",
    "\n",
    "- Look at the `fuel_efficiency_mpg` variable. Does it have a long tail? \n",
    "\n",
    "**No**"
   ]
  },
  {
   "cell_type": "code",
   "execution_count": 73,
   "id": "686e6e75",
   "metadata": {},
   "outputs": [
    {
     "data": {
      "image/png": "[encoded data removed]",
      "text/plain": [
       "<Figure size 640x480 with 1 Axes>"
      ]
     },
     "metadata": {},
     "output_type": "display_data"
    }
   ],
   "source": [
    "sns.histplot(analysis_df.fuel_efficiency_mpg, bins=20)\n",
    "plt.show()"
   ]
  },
  {
   "cell_type": "markdown",
   "id": "09d746d9",
   "metadata": {},
   "source": [
    "### Question 1\n",
    "\n",
    "There's one column with missing values. What is it?\n",
    "- `'engine_displacement'`\n",
    "- **`'horsepower'`**\n",
    "- `'vehicle_weight'`\n",
    "- `'model_year'`\n"
   ]
  },
  {
   "cell_type": "code",
   "execution_count": 74,
   "id": "75f2e308",
   "metadata": {},
   "outputs": [
    {
     "data": {
      "application/vnd.microsoft.datawrangler.viewer.v0+json": {
       "columns": [
        {
         "name": "index",
         "rawType": "object",
         "type": "string"
        },
        {
         "name": "0",
         "rawType": "int64",
         "type": "integer"
        }
       ],
       "ref": "b64cb24e-7bfb-4dd5-b713-79878cd6a16b",
       "rows": [
        [
         "engine_displacement",
         "0"
        ],
        [
         "horsepower",
         "708"
        ],
        [
         "vehicle_weight",
         "0"
        ],
        [
         "model_year",
         "0"
        ],
        [
         "fuel_efficiency_mpg",
         "0"
        ]
       ],
       "shape": {
        "columns": 1,
        "rows": 5
       }
      },
      "text/plain": [
       "engine_displacement      0\n",
       "horsepower             708\n",
       "vehicle_weight           0\n",
       "model_year               0\n",
       "fuel_efficiency_mpg      0\n",
       "dtype: int64"
      ]
     },
     "execution_count": 74,
     "metadata": {},
     "output_type": "execute_result"
    }
   ],
   "source": [
    "analysis_df.isnull().sum()"
   ]
  },
  {
   "cell_type": "markdown",
   "id": "238d5fd3",
   "metadata": {},
   "source": [
    "### Question 2\n",
    "\n",
    "What's the median (50% percentile) for variable `'horsepower'`? \n",
    "\n",
    "**149**"
   ]
  },
  {
   "cell_type": "code",
   "execution_count": 75,
   "id": "1fb32bcf",
   "metadata": {},
   "outputs": [
    {
     "data": {
      "text/plain": [
       "149.0"
      ]
     },
     "execution_count": 75,
     "metadata": {},
     "output_type": "execute_result"
    }
   ],
   "source": [
    "analysis_df.horsepower.median()"
   ]
  },
  {
   "cell_type": "markdown",
   "id": "447951f7",
   "metadata": {},
   "source": [
    "## Prepare and split the dataset\n",
    "- Shuffle the dataset (the filtered one you created above), use seed `42`.\n",
    "- Split your data in train/val/test sets, with 60%/20%/20% distribution.\n",
    "\n",
    "Use the same code as in the lectures."
   ]
  },
  {
   "cell_type": "code",
   "execution_count": 76,
   "id": "dfc6edda",
   "metadata": {},
   "outputs": [
    {
     "name": "stdout",
     "output_type": "stream",
     "text": [
      "9704 5824 1940 1940\n"
     ]
    }
   ],
   "source": [
    "n = len(analysis_df)\n",
    "\n",
    "n_val = n_test = int(n * 0.2)\n",
    "n_train = n - n_val - n_test\n",
    "\n",
    "print(n, n_train, n_val, n_test)"
   ]
  },
  {
   "cell_type": "code",
   "execution_count": 77,
   "id": "d2d9f9f8",
   "metadata": {},
   "outputs": [],
   "source": [
    "# Create an array of indices\n",
    "idx = np.arange(n)\n",
    "\n",
    "# Set random seed\n",
    "np.random.seed(42)\n",
    "\n",
    "# Shuffle the indices\n",
    "np.random.shuffle(idx)\n",
    "\n",
    "# Split the dataset\n",
    "df_train = analysis_df.iloc[idx[:n_train]].copy()\n",
    "df_val = analysis_df.iloc[idx[n_train:n_train + n_val]].copy()\n",
    "df_test = analysis_df.iloc[idx[n_train + n_val:]].copy()\n"
   ]
  },
  {
   "cell_type": "code",
   "execution_count": 78,
   "id": "5a69f67b",
   "metadata": {},
   "outputs": [
    {
     "data": {
      "text/plain": [
       "(5824, 1940, 1940)"
      ]
     },
     "execution_count": 78,
     "metadata": {},
     "output_type": "execute_result"
    }
   ],
   "source": [
    "len(df_train), len(df_val), len(df_test)"
   ]
  },
  {
   "cell_type": "code",
   "execution_count": 79,
   "id": "eab4971d",
   "metadata": {},
   "outputs": [
    {
     "data": {
      "application/vnd.microsoft.datawrangler.viewer.v0+json": {
       "columns": [
        {
         "name": "index",
         "rawType": "int64",
         "type": "integer"
        },
        {
         "name": "engine_displacement",
         "rawType": "int64",
         "type": "integer"
        },
        {
         "name": "horsepower",
         "rawType": "float64",
         "type": "float"
        },
        {
         "name": "vehicle_weight",
         "rawType": "float64",
         "type": "float"
        },
        {
         "name": "model_year",
         "rawType": "int64",
         "type": "integer"
        },
        {
         "name": "fuel_efficiency_mpg",
         "rawType": "float64",
         "type": "float"
        }
       ],
       "ref": "584dda9a-7fc2-4211-a84c-c9019cf8023f",
       "rows": [
        [
         "3729",
         "140",
         "148.0",
         "2704.8260050705408",
         "2017",
         "15.804354158350332"
        ],
        [
         "7764",
         "210",
         "136.0",
         "3001.227490267683",
         "2004",
         "14.272373869805104"
        ],
        [
         "4358",
         "210",
         "152.0",
         "3747.467391996321",
         "2021",
         "11.7484407197295"
        ],
        [
         "5922",
         "190",
         "128.0",
         "2705.8336358469087",
         "2014",
         "16.485990604730237"
        ],
        [
         "1343",
         "230",
         "156.0",
         "2505.9396572891837",
         "2005",
         "17.77970376690422"
        ]
       ],
       "shape": {
        "columns": 5,
        "rows": 5
       }
      },
      "text/html": [
       "<div>\n",
       "<style scoped>\n",
       "    .dataframe tbody tr th:only-of-type {\n",
       "        vertical-align: middle;\n",
       "    }\n",
       "\n",
       "    .dataframe tbody tr th {\n",
       "        vertical-align: top;\n",
       "    }\n",
       "\n",
       "    .dataframe thead th {\n",
       "        text-align: right;\n",
       "    }\n",
       "</style>\n",
       "<table border=\"1\" class=\"dataframe\">\n",
       "  <thead>\n",
       "    <tr style=\"text-align: right;\">\n",
       "      <th></th>\n",
       "      <th>engine_displacement</th>\n",
       "      <th>horsepower</th>\n",
       "      <th>vehicle_weight</th>\n",
       "      <th>model_year</th>\n",
       "      <th>fuel_efficiency_mpg</th>\n",
       "    </tr>\n",
       "  </thead>\n",
       "  <tbody>\n",
       "    <tr>\n",
       "      <th>3729</th>\n",
       "      <td>140</td>\n",
       "      <td>148.0</td>\n",
       "      <td>2704.826005</td>\n",
       "      <td>2017</td>\n",
       "      <td>15.804354</td>\n",
       "    </tr>\n",
       "    <tr>\n",
       "      <th>7764</th>\n",
       "      <td>210</td>\n",
       "      <td>136.0</td>\n",
       "      <td>3001.227490</td>\n",
       "      <td>2004</td>\n",
       "      <td>14.272374</td>\n",
       "    </tr>\n",
       "    <tr>\n",
       "      <th>4358</th>\n",
       "      <td>210</td>\n",
       "      <td>152.0</td>\n",
       "      <td>3747.467392</td>\n",
       "      <td>2021</td>\n",
       "      <td>11.748441</td>\n",
       "    </tr>\n",
       "    <tr>\n",
       "      <th>5922</th>\n",
       "      <td>190</td>\n",
       "      <td>128.0</td>\n",
       "      <td>2705.833636</td>\n",
       "      <td>2014</td>\n",
       "      <td>16.485991</td>\n",
       "    </tr>\n",
       "    <tr>\n",
       "      <th>1343</th>\n",
       "      <td>230</td>\n",
       "      <td>156.0</td>\n",
       "      <td>2505.939657</td>\n",
       "      <td>2005</td>\n",
       "      <td>17.779704</td>\n",
       "    </tr>\n",
       "  </tbody>\n",
       "</table>\n",
       "</div>"
      ],
      "text/plain": [
       "      engine_displacement  horsepower  vehicle_weight  model_year  \\\n",
       "3729                  140       148.0     2704.826005        2017   \n",
       "7764                  210       136.0     3001.227490        2004   \n",
       "4358                  210       152.0     3747.467392        2021   \n",
       "5922                  190       128.0     2705.833636        2014   \n",
       "1343                  230       156.0     2505.939657        2005   \n",
       "\n",
       "      fuel_efficiency_mpg  \n",
       "3729            15.804354  \n",
       "7764            14.272374  \n",
       "4358            11.748441  \n",
       "5922            16.485991  \n",
       "1343            17.779704  "
      ]
     },
     "execution_count": 79,
     "metadata": {},
     "output_type": "execute_result"
    }
   ],
   "source": [
    "df_test.head()"
   ]
  },
  {
   "cell_type": "code",
   "execution_count": 80,
   "id": "ceda387f",
   "metadata": {},
   "outputs": [
    {
     "data": {
      "application/vnd.microsoft.datawrangler.viewer.v0+json": {
       "columns": [
        {
         "name": "index",
         "rawType": "int64",
         "type": "integer"
        },
        {
         "name": "engine_displacement",
         "rawType": "int64",
         "type": "integer"
        },
        {
         "name": "horsepower",
         "rawType": "float64",
         "type": "float"
        },
        {
         "name": "vehicle_weight",
         "rawType": "float64",
         "type": "float"
        },
        {
         "name": "model_year",
         "rawType": "int64",
         "type": "integer"
        },
        {
         "name": "fuel_efficiency_mpg",
         "rawType": "float64",
         "type": "float"
        }
       ],
       "ref": "b75281ad-e9ad-4d11-a8cc-e007318741ef",
       "rows": [
        [
         "0",
         "140",
         "148.0",
         "2704.8260050705408",
         "2017",
         "15.804354158350332"
        ],
        [
         "1",
         "210",
         "136.0",
         "3001.227490267683",
         "2004",
         "14.272373869805104"
        ],
        [
         "2",
         "210",
         "152.0",
         "3747.467391996321",
         "2021",
         "11.7484407197295"
        ],
        [
         "3",
         "190",
         "128.0",
         "2705.8336358469087",
         "2014",
         "16.485990604730237"
        ],
        [
         "4",
         "230",
         "156.0",
         "2505.9396572891837",
         "2005",
         "17.77970376690422"
        ]
       ],
       "shape": {
        "columns": 5,
        "rows": 5
       }
      },
      "text/html": [
       "<div>\n",
       "<style scoped>\n",
       "    .dataframe tbody tr th:only-of-type {\n",
       "        vertical-align: middle;\n",
       "    }\n",
       "\n",
       "    .dataframe tbody tr th {\n",
       "        vertical-align: top;\n",
       "    }\n",
       "\n",
       "    .dataframe thead th {\n",
       "        text-align: right;\n",
       "    }\n",
       "</style>\n",
       "<table border=\"1\" class=\"dataframe\">\n",
       "  <thead>\n",
       "    <tr style=\"text-align: right;\">\n",
       "      <th></th>\n",
       "      <th>engine_displacement</th>\n",
       "      <th>horsepower</th>\n",
       "      <th>vehicle_weight</th>\n",
       "      <th>model_year</th>\n",
       "      <th>fuel_efficiency_mpg</th>\n",
       "    </tr>\n",
       "  </thead>\n",
       "  <tbody>\n",
       "    <tr>\n",
       "      <th>0</th>\n",
       "      <td>140</td>\n",
       "      <td>148.0</td>\n",
       "      <td>2704.826005</td>\n",
       "      <td>2017</td>\n",
       "      <td>15.804354</td>\n",
       "    </tr>\n",
       "    <tr>\n",
       "      <th>1</th>\n",
       "      <td>210</td>\n",
       "      <td>136.0</td>\n",
       "      <td>3001.227490</td>\n",
       "      <td>2004</td>\n",
       "      <td>14.272374</td>\n",
       "    </tr>\n",
       "    <tr>\n",
       "      <th>2</th>\n",
       "      <td>210</td>\n",
       "      <td>152.0</td>\n",
       "      <td>3747.467392</td>\n",
       "      <td>2021</td>\n",
       "      <td>11.748441</td>\n",
       "    </tr>\n",
       "    <tr>\n",
       "      <th>3</th>\n",
       "      <td>190</td>\n",
       "      <td>128.0</td>\n",
       "      <td>2705.833636</td>\n",
       "      <td>2014</td>\n",
       "      <td>16.485991</td>\n",
       "    </tr>\n",
       "    <tr>\n",
       "      <th>4</th>\n",
       "      <td>230</td>\n",
       "      <td>156.0</td>\n",
       "      <td>2505.939657</td>\n",
       "      <td>2005</td>\n",
       "      <td>17.779704</td>\n",
       "    </tr>\n",
       "  </tbody>\n",
       "</table>\n",
       "</div>"
      ],
      "text/plain": [
       "   engine_displacement  horsepower  vehicle_weight  model_year  \\\n",
       "0                  140       148.0     2704.826005        2017   \n",
       "1                  210       136.0     3001.227490        2004   \n",
       "2                  210       152.0     3747.467392        2021   \n",
       "3                  190       128.0     2705.833636        2014   \n",
       "4                  230       156.0     2505.939657        2005   \n",
       "\n",
       "   fuel_efficiency_mpg  \n",
       "0            15.804354  \n",
       "1            14.272374  \n",
       "2            11.748441  \n",
       "3            16.485991  \n",
       "4            17.779704  "
      ]
     },
     "execution_count": 80,
     "metadata": {},
     "output_type": "execute_result"
    }
   ],
   "source": [
    "for df in (df_train, df_val, df_test):\n",
    "    df.reset_index(drop=True, inplace=True)\n",
    "df_test.head()"
   ]
  },
  {
   "cell_type": "code",
   "execution_count": 81,
   "id": "4f07b813",
   "metadata": {},
   "outputs": [
    {
     "data": {
      "application/vnd.microsoft.datawrangler.viewer.v0+json": {
       "columns": [
        {
         "name": "index",
         "rawType": "int64",
         "type": "integer"
        },
        {
         "name": "engine_displacement",
         "rawType": "int64",
         "type": "integer"
        },
        {
         "name": "horsepower",
         "rawType": "float64",
         "type": "float"
        },
        {
         "name": "vehicle_weight",
         "rawType": "float64",
         "type": "float"
        },
        {
         "name": "model_year",
         "rawType": "int64",
         "type": "integer"
        },
        {
         "name": "fuel_efficiency_mpg",
         "rawType": "float64",
         "type": "float"
        }
       ],
       "ref": "73712ed5-80c5-4f64-9dc8-f79509bb0c93",
       "rows": [
        [
         "0",
         "220",
         "144.0",
         "2535.8875912388694",
         "2009",
         "16.642943419221385"
        ],
        [
         "1",
         "160",
         "141.0",
         "2741.1704843893167",
         "2019",
         "16.298377150953442"
        ],
        [
         "2",
         "230",
         "155.0",
         "2471.8802372627765",
         "2017",
         "18.59182197290521"
        ],
        [
         "3",
         "150",
         "206.0",
         "3748.1644685764895",
         "2015",
         "11.818843137349878"
        ],
        [
         "4",
         "300",
         "111.0",
         "2135.7163589302763",
         "2006",
         "19.40220906398922"
        ]
       ],
       "shape": {
        "columns": 5,
        "rows": 5
       }
      },
      "text/html": [
       "<div>\n",
       "<style scoped>\n",
       "    .dataframe tbody tr th:only-of-type {\n",
       "        vertical-align: middle;\n",
       "    }\n",
       "\n",
       "    .dataframe tbody tr th {\n",
       "        vertical-align: top;\n",
       "    }\n",
       "\n",
       "    .dataframe thead th {\n",
       "        text-align: right;\n",
       "    }\n",
       "</style>\n",
       "<table border=\"1\" class=\"dataframe\">\n",
       "  <thead>\n",
       "    <tr style=\"text-align: right;\">\n",
       "      <th></th>\n",
       "      <th>engine_displacement</th>\n",
       "      <th>horsepower</th>\n",
       "      <th>vehicle_weight</th>\n",
       "      <th>model_year</th>\n",
       "      <th>fuel_efficiency_mpg</th>\n",
       "    </tr>\n",
       "  </thead>\n",
       "  <tbody>\n",
       "    <tr>\n",
       "      <th>0</th>\n",
       "      <td>220</td>\n",
       "      <td>144.0</td>\n",
       "      <td>2535.887591</td>\n",
       "      <td>2009</td>\n",
       "      <td>16.642943</td>\n",
       "    </tr>\n",
       "    <tr>\n",
       "      <th>1</th>\n",
       "      <td>160</td>\n",
       "      <td>141.0</td>\n",
       "      <td>2741.170484</td>\n",
       "      <td>2019</td>\n",
       "      <td>16.298377</td>\n",
       "    </tr>\n",
       "    <tr>\n",
       "      <th>2</th>\n",
       "      <td>230</td>\n",
       "      <td>155.0</td>\n",
       "      <td>2471.880237</td>\n",
       "      <td>2017</td>\n",
       "      <td>18.591822</td>\n",
       "    </tr>\n",
       "    <tr>\n",
       "      <th>3</th>\n",
       "      <td>150</td>\n",
       "      <td>206.0</td>\n",
       "      <td>3748.164469</td>\n",
       "      <td>2015</td>\n",
       "      <td>11.818843</td>\n",
       "    </tr>\n",
       "    <tr>\n",
       "      <th>4</th>\n",
       "      <td>300</td>\n",
       "      <td>111.0</td>\n",
       "      <td>2135.716359</td>\n",
       "      <td>2006</td>\n",
       "      <td>19.402209</td>\n",
       "    </tr>\n",
       "  </tbody>\n",
       "</table>\n",
       "</div>"
      ],
      "text/plain": [
       "   engine_displacement  horsepower  vehicle_weight  model_year  \\\n",
       "0                  220       144.0     2535.887591        2009   \n",
       "1                  160       141.0     2741.170484        2019   \n",
       "2                  230       155.0     2471.880237        2017   \n",
       "3                  150       206.0     3748.164469        2015   \n",
       "4                  300       111.0     2135.716359        2006   \n",
       "\n",
       "   fuel_efficiency_mpg  \n",
       "0            16.642943  \n",
       "1            16.298377  \n",
       "2            18.591822  \n",
       "3            11.818843  \n",
       "4            19.402209  "
      ]
     },
     "execution_count": 81,
     "metadata": {},
     "output_type": "execute_result"
    }
   ],
   "source": [
    "df_train.head()"
   ]
  },
  {
   "cell_type": "code",
   "execution_count": 82,
   "id": "9698f8d5",
   "metadata": {},
   "outputs": [],
   "source": [
    "# Create labels\n",
    "y_train = df_train.fuel_efficiency_mpg.values\n",
    "y_val = df_val.fuel_efficiency_mpg.values\n",
    "y_test = df_test.fuel_efficiency_mpg.values"
   ]
  },
  {
   "cell_type": "code",
   "execution_count": 83,
   "id": "afb8ae82",
   "metadata": {},
   "outputs": [
    {
     "data": {
      "text/plain": [
       "Index(['engine_displacement', 'horsepower', 'vehicle_weight', 'model_year'], dtype='object')"
      ]
     },
     "execution_count": 83,
     "metadata": {},
     "output_type": "execute_result"
    }
   ],
   "source": [
    "# Remove labels from dataframes\n",
    "for df in (df_train, df_val, df_test):\n",
    "    df.drop(columns=['fuel_efficiency_mpg'], inplace=True)\n",
    "df_train.columns"
   ]
  },
  {
   "cell_type": "code",
   "execution_count": 84,
   "id": "4e68c3e4",
   "metadata": {},
   "outputs": [
    {
     "data": {
      "text/plain": [
       "(5824, 1940, 1940)"
      ]
     },
     "execution_count": 84,
     "metadata": {},
     "output_type": "execute_result"
    }
   ],
   "source": [
    "len(y_train), len(y_val), len(y_test)"
   ]
  },
  {
   "cell_type": "code",
   "execution_count": 85,
   "id": "dbf3ac08",
   "metadata": {},
   "outputs": [
    {
     "data": {
      "application/vnd.microsoft.datawrangler.viewer.v0+json": {
       "columns": [
        {
         "name": "index",
         "rawType": "object",
         "type": "string"
        },
        {
         "name": "0",
         "rawType": "int64",
         "type": "integer"
        }
       ],
       "ref": "772340d2-8b4b-40fd-9fcc-d8bb1b6467d3",
       "rows": [
        [
         "engine_displacement",
         "0"
        ],
        [
         "horsepower",
         "429"
        ],
        [
         "vehicle_weight",
         "0"
        ],
        [
         "model_year",
         "0"
        ]
       ],
       "shape": {
        "columns": 1,
        "rows": 4
       }
      },
      "text/plain": [
       "engine_displacement      0\n",
       "horsepower             429\n",
       "vehicle_weight           0\n",
       "model_year               0\n",
       "dtype: int64"
      ]
     },
     "execution_count": 85,
     "metadata": {},
     "output_type": "execute_result"
    }
   ],
   "source": [
    "df_train.isnull().sum()"
   ]
  },
  {
   "cell_type": "markdown",
   "id": "279f0acd",
   "metadata": {},
   "source": [
    "### Question 3\n",
    "\n",
    "- We need to deal with missing values for the column from Q1.\n",
    "- We have two options: fill it with 0 or with the mean of this variable.\n",
    "- Try both options. For each, train a linear regression model without regularization using the code from the lessons.\n",
    "- For computing the mean, use the training only!\n",
    "- Use the validation dataset to evaluate the models and compare the RMSE of each option.\n",
    "- Round the RMSE scores to 2 decimal digits using round(score, 2)\n",
    "- Which option gives better RMSE?\n",
    "\n",
    "Options:\n",
    "\n",
    "- With 0\n",
    "- **With mean**\n",
    "- Both are equally good"
   ]
  },
  {
   "cell_type": "markdown",
   "id": "72f0af75",
   "metadata": {},
   "source": [
    "#### Option 1: Fill with zeroes\n",
    "\n",
    "- Fill missing values in `horsepower` column with zeroes.\n",
    "- Train a linear regression model without regularization\n",
    "- Produce RMSE, round to 2 decimal digits"
   ]
  },
  {
   "cell_type": "code",
   "execution_count": 86,
   "id": "becab4d6",
   "metadata": {},
   "outputs": [],
   "source": [
    "def prepare_X(df: pd.DataFrame, fill_method: str = 'zero') -> np.ndarray:\n",
    "    df = df.copy()\n",
    "    if fill_method == 'zero':\n",
    "        df = df.fillna(0)\n",
    "    elif fill_method == 'mean':\n",
    "        mean_horsepower = df_train.horsepower.mean()\n",
    "        df = df.fillna(mean_horsepower)\n",
    "    else:\n",
    "        raise ValueError(\"fill_method must be 'zero' or 'mean'\")\n",
    "    \n",
    "    return df.values"
   ]
  },
  {
   "cell_type": "code",
   "execution_count": 87,
   "id": "3215fbc7",
   "metadata": {},
   "outputs": [],
   "source": [
    "def train_linear_regression(X, y):\n",
    "    ones = np.ones(X.shape[0])\n",
    "    X = np.column_stack([ones, X])\n",
    "\n",
    "    XTX = X.T.dot(X)\n",
    "    XTX_inv = np.linalg.inv(XTX)\n",
    "    w_full = XTX_inv.dot(X.T).dot(y)\n",
    "    \n",
    "    return w_full[0], w_full[1:]"
   ]
  },
  {
   "cell_type": "code",
   "execution_count": 88,
   "id": "30527475",
   "metadata": {},
   "outputs": [],
   "source": [
    "def rmse(y, y_pred):\n",
    "    se = (y - y_pred) ** 2\n",
    "    mse = se.mean()\n",
    "    return np.sqrt(mse)"
   ]
  },
  {
   "cell_type": "code",
   "execution_count": 91,
   "id": "08aaa202",
   "metadata": {},
   "outputs": [
    {
     "name": "stdout",
     "output_type": "stream",
     "text": [
      "Validation RMSE (fill with zeroes): 0.52\n"
     ]
    }
   ],
   "source": [
    "X_train = prepare_X(df_train, fill_method='zero')\n",
    "w0, w = train_linear_regression(X_train, y_train)\n",
    "X_val = prepare_X(df_val, fill_method='zero')\n",
    "y_val_pred = w0 + X_val.dot(w)\n",
    "rmse_val_zero = rmse(y_val, y_val_pred)\n",
    "print(f\"Validation RMSE (fill with zeroes): {round(rmse_val_zero, 2)}\")"
   ]
  },
  {
   "cell_type": "code",
   "execution_count": 92,
   "id": "e7e55173",
   "metadata": {},
   "outputs": [
    {
     "name": "stdout",
     "output_type": "stream",
     "text": [
      "Validation RMSE (fill with mean): 0.46\n"
     ]
    }
   ],
   "source": [
    "# Now train with mean\n",
    "X_train = prepare_X(df_train, fill_method='mean')\n",
    "w0, w = train_linear_regression(X_train, y_train)\n",
    "X_val = prepare_X(df_val, fill_method='mean')\n",
    "y_val_pred = w0 + X_val.dot(w)\n",
    "rmse_val_mean = rmse(y_val, y_val_pred)\n",
    "print(f\"Validation RMSE (fill with mean): {round(rmse_val_mean, 2)}\")"
   ]
  },
  {
   "cell_type": "code",
   "execution_count": 93,
   "id": "c3d3749b",
   "metadata": {},
   "outputs": [
    {
     "data": {
      "text/plain": [
       "np.True_"
      ]
     },
     "execution_count": 93,
     "metadata": {},
     "output_type": "execute_result"
    }
   ],
   "source": [
    "rmse_val_zero > rmse_val_mean"
   ]
  },
  {
   "cell_type": "markdown",
   "id": "2d6cd00c",
   "metadata": {},
   "source": [
    "### Question 4\n",
    "\n",
    "- Now let's train a regularized linear regression.\n",
    "- For this question, fill the NAs with 0.\n",
    "- Try different values of r from this list: [0, 0.01, 0.1, 1, 5, 10, 100].\n",
    "- Use RMSE to evaluate the model on the validation dataset.\n",
    "- Round the RMSE scores to 2 decimal digits.\n",
    "- Which r gives the best RMSE?\n",
    "- If multiple options give the same best RMSE, select the smallest r.\n",
    "\n",
    "Options:\n",
    "\n",
    "- 0\n",
    "- **0.01**\n",
    "- 1\n",
    "- 10\n",
    "- 100\n"
   ]
  },
  {
   "cell_type": "code",
   "execution_count": 94,
   "id": "5b540416",
   "metadata": {},
   "outputs": [],
   "source": [
    "def train_linear_regression_reg(X, y, r=0.001):\n",
    "    ones = np.ones(X.shape[0])\n",
    "    X = np.column_stack([ones, X])\n",
    "\n",
    "    XTX = X.T.dot(X)\n",
    "    XTX = XTX + r * np.eye(XTX.shape[0])\n",
    "\n",
    "    XTX_inv = np.linalg.inv(XTX)\n",
    "    w_full = XTX_inv.dot(X.T).dot(y)\n",
    "    \n",
    "    return w_full[0], w_full[1:]"
   ]
  },
  {
   "cell_type": "code",
   "execution_count": null,
   "id": "598fbf5b",
   "metadata": {},
   "outputs": [
    {
     "name": "stdout",
     "output_type": "stream",
     "text": [
      "Validation RMSE (r=0): 0.517378263883769\n",
      "Validation RMSE (r=0.01): 0.5171115525774069\n",
      "Validation RMSE (r=0.1): 0.5187525130701818\n",
      "Validation RMSE (r=1): 0.5222348802092905\n",
      "Validation RMSE (r=5): 0.5228916092823563\n",
      "Validation RMSE (r=10): 0.52298129796366\n",
      "Validation RMSE (r=100): 0.523063623381993\n"
     ]
    }
   ],
   "source": [
    "for r in [0, 0.01, 0.1, 1, 5, 10, 100]:\n",
    "    X_train = prepare_X(df_train, fill_method='zero')\n",
    "    w0, w = train_linear_regression_reg(X_train, y_train, r=r)\n",
    "    X_val = prepare_X(df_val, fill_method='zero')\n",
    "    y_val_pred = w0 + X_val.dot(w)\n",
    "    rmse_val = rmse(y_val, y_val_pred)\n",
    "    print(f\"Validation RMSE (r={r}): {rmse_val}\")\n",
    "\n"
   ]
  },
  {
   "cell_type": "markdown",
   "id": "be215bb0",
   "metadata": {},
   "source": [
    "### Question 5\n",
    "\n",
    "- We used seed `42` for splitting the data. Let's find out how selecting the seed influences our score.\n",
    "- Try different seed values: `[0, 1, 2, 3, 4, 5, 6, 7, 8, 9]`.\n",
    "- For each seed, do the train/validation/test split with 60%/20%/20% distribution.\n",
    "- Fill the missing values with 0 and train a model without regularization.\n",
    "- For each seed, evaluate the model on the validation dataset and collect the RMSE scores.\n",
    "- What's the standard deviation of all the scores? To compute the standard deviation, use np.std.\n",
    "- Round the result to 3 decimal digits (round(std, 3))\n",
    "\n",
    "What's the value of std?\n",
    "\n",
    "- 0.001\n",
    "- **0.006**\n",
    "- 0.060\n",
    "- 0.600\n",
    "\n",
    "> Note: Standard deviation shows how different the values are. If it's low, then all values are approximately the same. If it's high, the values are different. If standard deviation of scores is low, then our model is stable."
   ]
  },
  {
   "cell_type": "code",
   "execution_count": 100,
   "id": "43030569",
   "metadata": {},
   "outputs": [],
   "source": [
    "def create_split(seed):\n",
    "    n = len(analysis_df)\n",
    "\n",
    "    n_val = n_test = int(n * 0.2)\n",
    "    n_train = n - n_val - n_test\n",
    "\n",
    "    # Create an array of indices\n",
    "    idx = np.arange(n)\n",
    "\n",
    "    # Set random seed\n",
    "    np.random.seed(seed)\n",
    "\n",
    "    # Shuffle the indices\n",
    "    np.random.shuffle(idx)\n",
    "\n",
    "    # Split the dataset\n",
    "    df_train = analysis_df.iloc[idx[:n_train]].copy()\n",
    "    df_val = analysis_df.iloc[idx[n_train:n_train + n_val]].copy()\n",
    "    df_test = analysis_df.iloc[idx[n_train + n_val:]].copy()\n",
    "\n",
    "    for df in (df_train, df_val, df_test):\n",
    "        df.reset_index(drop=True, inplace=True)\n",
    "\n",
    "    # Create labels\n",
    "    y_train = df_train.fuel_efficiency_mpg.values\n",
    "    y_val = df_val.fuel_efficiency_mpg.values\n",
    "    y_test = df_test.fuel_efficiency_mpg.values\n",
    "\n",
    "    # Remove labels from dataframes\n",
    "    for df in (df_train, df_val, df_test):\n",
    "        df.drop(columns=['fuel_efficiency_mpg'], inplace=True)\n",
    "    \n",
    "    return df_train, y_train, df_val, y_val, df_test, y_test"
   ]
  },
  {
   "cell_type": "code",
   "execution_count": 101,
   "id": "5b2d23a6",
   "metadata": {},
   "outputs": [
    {
     "name": "stdout",
     "output_type": "stream",
     "text": [
      "Seed 0: Validation RMSE: 0.5206531296286034\n",
      "Seed 1: Validation RMSE: 0.521338891286213\n",
      "Seed 2: Validation RMSE: 0.522806997464668\n",
      "Seed 3: Validation RMSE: 0.5159516741272654\n",
      "Seed 4: Validation RMSE: 0.510912946010048\n",
      "Seed 5: Validation RMSE: 0.5283406460150384\n",
      "Seed 6: Validation RMSE: 0.5313910658199211\n",
      "Seed 7: Validation RMSE: 0.5090670387337807\n",
      "Seed 8: Validation RMSE: 0.5147399129384673\n",
      "Seed 9: Validation RMSE: 0.5131865908366473\n"
     ]
    }
   ],
   "source": [
    "for seed in range(10):\n",
    "    df_train, y_train, df_val, y_val, df_test, y_test = create_split(seed)\n",
    "    X_train = prepare_X(df_train, fill_method='zero')\n",
    "    w0, w = train_linear_regression(X_train, y_train)\n",
    "    X_val = prepare_X(df_val, fill_method='zero')\n",
    "    y_val_pred = w0 + X_val.dot(w)\n",
    "    rmse_val = rmse(y_val, y_val_pred)\n",
    "    print(f\"Seed {seed}: Validation RMSE: {rmse_val}\")"
   ]
  },
  {
   "cell_type": "code",
   "execution_count": 106,
   "id": "ff625fef",
   "metadata": {},
   "outputs": [
    {
     "name": "stdout",
     "output_type": "stream",
     "text": [
      "Seed 0: Validation RMSE: 0.5206531296286034\n",
      "Seed 1: Validation RMSE: 0.521338891286213\n",
      "Seed 2: Validation RMSE: 0.522806997464668\n",
      "Seed 3: Validation RMSE: 0.5159516741272654\n",
      "Seed 4: Validation RMSE: 0.510912946010048\n",
      "Seed 5: Validation RMSE: 0.5283406460150384\n",
      "Seed 6: Validation RMSE: 0.5313910658199211\n",
      "Seed 7: Validation RMSE: 0.5090670387337807\n",
      "Seed 8: Validation RMSE: 0.5147399129384673\n",
      "Seed 9: Validation RMSE: 0.5131865908366473\n",
      "\n",
      "Standard deviation of RMSE scores: 0.007\n"
     ]
    }
   ],
   "source": [
    "# Collect RMSE scores\n",
    "rmse_scores = []\n",
    "\n",
    "for seed in range(10):\n",
    "    df_train, y_train, df_val, y_val, df_test, y_test = create_split(seed)\n",
    "    X_train = prepare_X(df_train, fill_method='zero')\n",
    "    w0, w = train_linear_regression(X_train, y_train)\n",
    "    X_val = prepare_X(df_val, fill_method='zero')\n",
    "    y_val_pred = w0 + X_val.dot(w)\n",
    "    rmse_val = rmse(y_val, y_val_pred)\n",
    "    rmse_scores.append(rmse_val)\n",
    "    print(f\"Seed {seed}: Validation RMSE: {rmse_val}\")\n",
    "\n",
    "# Convert to numpy array and calculate standard deviation\n",
    "rmse_array = np.array(rmse_scores)\n",
    "std_deviation = np.std(rmse_array)\n",
    "print(f\"\\nStandard deviation of RMSE scores: {round(std_deviation, 3)}\")"
   ]
  },
  {
   "cell_type": "markdown",
   "id": "2369ab62",
   "metadata": {},
   "source": [
    "### Question 6\n",
    "- Split the dataset like previously, use seed 9.\n",
    "- Combine train and validation datasets.\n",
    "- Fill the missing values with 0 and train a model with `r=0.001`.\n",
    "- What's the RMSE on the test dataset?\n",
    "\n",
    "Options:\n",
    "\n",
    "- 0.15\n",
    "- **0.515**\n",
    "- 5.15\n",
    "- 51.5\n"
   ]
  },
  {
   "cell_type": "code",
   "execution_count": 107,
   "id": "db2ece97",
   "metadata": {},
   "outputs": [
    {
     "name": "stdout",
     "output_type": "stream",
     "text": [
      "Seed 9: Test RMSE: 0.5156261299162685\n"
     ]
    }
   ],
   "source": [
    "# split dataset with seed 9\n",
    "df_train, y_train, df_val, y_val, df_test, y_test = create_split(9)\n",
    "\n",
    "# Create combined train + val set\n",
    "df_train_full = pd.concat([df_train, df_val]).reset_index(drop=True)\n",
    "\n",
    "# Create combined labels\n",
    "y_train_full = np.concatenate([y_train, y_val])\n",
    "\n",
    "X_train_full = prepare_X(df_train_full, fill_method='zero')\n",
    "w0, w = train_linear_regression_reg(X_train_full, y_train_full, r=0.001)\n",
    "X_test = prepare_X(df_test, fill_method='zero')\n",
    "y_test_pred = w0 + X_test.dot(w)\n",
    "rmse_test = rmse(y_test, y_test_pred)\n",
    "print(f\"Seed 9: Test RMSE: {rmse_test}\")"
   ]
  },
  {
   "cell_type": "code",
   "execution_count": null,
   "id": "53161027",
   "metadata": {},
   "outputs": [],
   "source": []
  }
 ],
 "metadata": {
  "kernelspec": {
   "display_name": "mlzoomcamp",
   "language": "python",
   "name": "python3"
  },
  "language_info": {
   "codemirror_mode": {
    "name": "ipython",
    "version": 3
   },
   "file_extension": ".py",
   "mimetype": "text/x-python",
   "name": "python",
   "nbconvert_exporter": "python",
   "pygments_lexer": "ipython3",
   "version": "3.11.11"
  }
 },
 "nbformat": 4,
 "nbformat_minor": 5
}
